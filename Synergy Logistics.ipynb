{
 "cells": [
  {
   "cell_type": "markdown",
   "metadata": {},
   "source": [
    "## Proyecto 2 \n",
    "#### José David Vázquez Rojas"
   ]
  },
  {
   "cell_type": "markdown",
   "metadata": {},
   "source": [
    "### ***Opción 1) Rutas de importación y exportación***.\n",
    "Synergy logistics está considerando la posibilidad de enfocar sus esfuerzos en las 10 rutas más demandadas. Acorde a los flujos de importación y exportación, ¿cuáles son esas 10 rutas? ¿le conviene implementar esa estrategia? ¿porqué?\n"
   ]
  },
  {
   "cell_type": "code",
   "execution_count": 25,
   "metadata": {},
   "outputs": [
    {
     "name": "stdout",
     "output_type": "stream",
     "text": [
      "TOP 10 RUTAS DE IMPORTACIÓN Y EXPORTACION SEGUN FRECUENCIA\n",
      "\n",
      "South Korea-Vietnam    497\n",
      "Netherlands-Belgium    437\n",
      "USA-Netherlands        436\n",
      "Japan-Mexico           385\n",
      "China-Mexico           351\n",
      "China-Japan            343\n",
      "Germany-China          328\n",
      "Japan-Brazil           306\n",
      "Germany-France         299\n",
      "South Korea-Japan      294\n",
      "Name: ruta, dtype: int64\n",
      "\n",
      "El total de demanda del top 10 de rutas es:  3676\n"
     ]
    }
   ],
   "source": [
    "import pandas as pd #Importamos pandas\n",
    "import numpy as np #importamos numpy\n",
    "df = pd.read_csv('synergy_logistics_database.csv') #leemos el archivo csv\n",
    "df['ruta'] = df['origin'] + \"-\" + df['destination'] #Creamos una columna con el nombre de las rutas que existen\n",
    "top10rutas = df['ruta'].value_counts()[:10]#Contabilizamos las rutas y la acotamos con las top 10\n",
    "print(\"TOP 10 RUTAS DE IMPORTACIÓN Y EXPORTACION SEGUN FRECUENCIA\\n\") #Imprimimos el enunciado\n",
    "print(top10rutas)# y las 10 rutas mas frecuentes\n",
    "print(\"\\nEl total de demanda del top 10 de rutas es: \",top10rutas.sum())"
   ]
  },
  {
   "cell_type": "code",
   "execution_count": 17,
   "metadata": {},
   "outputs": [
    {
     "name": "stdout",
     "output_type": "stream",
     "text": [
      "TOP 10 RUTAS DE IMPORTACIÓN Y EXPORTACIÓN SEGÚN INGRESOS\n",
      "                      ruta  total_value  Value_percentage  PercentageCumsum\n",
      "34            China-Mexico  12494000000          5.792538          5.792538\n",
      "26           Canada-Mexico   8450000000          3.917636          9.710174\n",
      "138    South Korea-Vietnam   6877007000          3.188356         12.898530\n",
      "33             China-Japan   5891000000          2.731218         15.629748\n",
      "90            Japan-Mexico   5829000000          2.702473         18.332222\n",
      "43          France-Belgium   5538069000          2.567590         20.899812\n",
      "53   France-United Kingdom   5427000000          2.516096         23.415908\n",
      "37       China-South Korea   4790000000          2.220766         25.636675\n",
      "134      South Korea-Japan   4741000000          2.198049         27.834723\n",
      "158             USA-Mexico   4710000000          2.183676         30.018400\n"
     ]
    }
   ],
   "source": [
    "print(\"TOP 10 RUTAS DE IMPORTACIÓN Y EXPORTACIÓN SEGÚN INGRESOS\") #Imprimimos enunciado\n",
    "ingresosPais = df.iloc[:, [-1,9]] #Ocuparemos esta variable para almacenar las columnas de ruta y el ingreso que generan.\n",
    "top10ingresos = ingresosPais.groupby('ruta',as_index=False)['total_value'].sum() #Almacenamos las rutas y el valor de ingresos que generaron en total cada una de ellas.\n",
    "top10ingresos = top10ingresos.sort_values('total_value', ascending = False)[:10] #Ordenamos las rutas de ingresos que obtuvieron de mayor a menor.\n",
    "totalingresos=df['total_value'].sum() #obtenemos el total de ingresos generados\n",
    "top10ingresos['Valuepercentage'] = (top10ingresos['total_value']/totalingresos*100)\n",
    "top10ingresos['PercentageCumsum'] = (top10ingresos['total_value']/totalingresos*100).cumsum()\n",
    "print(top10ingresos)#Imprimimos las rutas"
   ]
  },
  {
   "cell_type": "markdown",
   "metadata": {},
   "source": [
    "\n",
    "### ***Opción 2) Medio de transporte utilizado.***\n",
    "¿Cuáles son los 3 medios de transporte\n",
    "más importantes para Synergy logistics considerando el valor de las\n",
    "importaciones y exportaciones? ¿Cuál es medio de transporte que podrían\n",
    "reducir?"
   ]
  },
  {
   "cell_type": "code",
   "execution_count": 45,
   "metadata": {},
   "outputs": [
    {
     "name": "stdout",
     "output_type": "stream",
     "text": [
      "MEDIOS DE TRANSPORTE MÁS USADOS SEGUN DEMANDA\n",
      "Sea     10688\n",
      "Rail     3381\n",
      "Road     2598\n",
      "Air      2389\n",
      "Name: transport_mode, dtype: int64\n",
      "MEDIOS DE TRANSPORTE MÁS USADOS SEGÚN INGRESOS\n",
      "      0             1\n",
      "0   Sea  100530622000\n",
      "2  Rail   43628043000\n",
      "1   Air   38262147000\n",
      "3  Road   33270486000\n"
     ]
    }
   ],
   "source": [
    "transportes_count = df['transport_mode'].value_counts() #almacenamos en una variable los medios de transporte y su respectiva frecuencia\n",
    "transportes = df['transport_mode'].unique() #declaramos tranposrtes que contendrá los medios de transportes \n",
    "totales = [] #lista auxiliar para  sumar la frecuencia\n",
    "for i in transportes: #Iteramos los medios de transporte para ir sumando su frecuencia\n",
    "    subset = df[df['transport_mode'] == i] \n",
    "    total = subset['total_value'].sum()\n",
    "    totales.append(total)\n",
    "ingresos_transporte = (pd.DataFrame(np.vstack((transportes, totales))).T).sort_values(by = [1], ascending = False)#para los ingresos que generaron, agrupamos los medios de tranpsorte y su respectiva valor total\n",
    "print(\"MEDIOS DE TRANSPORTE MÁS USADOS SEGUN DEMANDA\") #Imprimimos resultados\n",
    "print(transportes_count)\n",
    "print(\"MEDIOS DE TRANSPORTE MÁS USADOS SEGÚN INGRESOS\")\n",
    "print(ingresos_transporte)\n",
    "\n"
   ]
  },
  {
   "cell_type": "markdown",
   "metadata": {},
   "source": [
    "### ***Opción 3) Valor total de importaciones y exportaciones.***\n",
    "Si Synergy Logistics quisiera enfocarse en los países que le generan el 80% del valor de las\n",
    "exportaciones e importaciones ¿en qué grupo de países debería enfocar sus\n",
    "esfuerzos?"
   ]
  },
  {
   "cell_type": "code",
   "execution_count": 31,
   "metadata": {},
   "outputs": [
    {
     "name": "stdout",
     "output_type": "stream",
     "text": [
      "\tPAISES DESTINO QUE GENERAN EL 80% DE INGRESOS\n",
      "             destination  total_value  total_value_percentage\n",
      "15                Mexico  37209015000               17.251051\n",
      "30                   USA  16917409000               25.094394\n",
      "9                Germany  16412451000               32.703626\n",
      "13                 Japan  14605152000               39.474948\n",
      "28              Thailand  14082000000               46.003723\n",
      "6                  China  13831992000               52.416588\n",
      "2                Belgium  13099380000               58.489795\n",
      "31  United Arab Emirates   8885119000               62.609164\n",
      "32        United Kingdom   8150673000               66.388024\n",
      "4                 Brazil   7508016000               69.868932\n",
      "25           South Korea   7321668000               73.263445\n",
      "33               Vietnam   6877007000               76.451801\n",
      "12                 Italy   6109329000               79.284242\n"
     ]
    }
   ],
   "source": [
    "print(\"\\tPAISES DESTINO QUE GENERAN EL 80% DE INGRESOS\")\n",
    "totalingresos=df['total_value'].sum() #obtenemos el total de ingresos generados\n",
    "ingresos80 = df.iloc[:, [3,9]] #Obtenemos las filas de las  2 columnas de paises destino y los ingresos que generaron\n",
    "paisesIngreso = ingresos80.groupby('destination',as_index=False)['total_value'].sum() #Obtenemos los paises destinos y cuanto generó cada uno de ellos\n",
    "paisesIngreso = paisesIngreso.sort_values('total_value', ascending = False)#Ordenamos los valores por el total de ingresos de mayor a menor\n",
    "paisesIngreso['total_value_percentage'] = (paisesIngreso['total_value']/totalingresos*100).cumsum()# Creamos otra columna de los ingresos que genera cada pais en porcentaje\n",
    "paisesIngreso = paisesIngreso.sort_values('total_value_percentage')#Ordenamos de acuerdo al total de porcentaje\n",
    "paisesIngreso = paisesIngreso.drop(paisesIngreso[paisesIngreso['total_value_percentage']>80].index)#Acotamos los paises que acumulan menor al 80% de ingresos\n",
    "print(paisesIngreso)\n"
   ]
  },
  {
   "cell_type": "code",
   "execution_count": null,
   "metadata": {},
   "outputs": [],
   "source": []
  }
 ],
 "metadata": {
  "kernelspec": {
   "display_name": "Python 3",
   "language": "python",
   "name": "python3"
  },
  "language_info": {
   "codemirror_mode": {
    "name": "ipython",
    "version": 3
   },
   "file_extension": ".py",
   "mimetype": "text/x-python",
   "name": "python",
   "nbconvert_exporter": "python",
   "pygments_lexer": "ipython3",
   "version": "3.7.6"
  }
 },
 "nbformat": 4,
 "nbformat_minor": 4
}
